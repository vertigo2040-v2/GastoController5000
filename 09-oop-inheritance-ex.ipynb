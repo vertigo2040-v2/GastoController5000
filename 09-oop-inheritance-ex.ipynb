{
  "cells": [
    {
      "cell_type": "markdown",
      "metadata": {
        "id": "Gsfs_NmrY3F_"
      },
      "source": [
        "## Clase `Dice`\n",
        "\n",
        "Implementar una clase denominada `Dice`, que funcione como un conjunto de $n$ dados. La clase debe recibir como argumento el número de dados a tirar. Además, la clase debe implementar:\n",
        "\n",
        "- Un método de `roll()` que simula la tirada de los $n$ dados y guarda internamente una lista con los valores resultantes. No devuelve nada.\n",
        "    \n",
        "    - Si no se ha llamado a `roll()`, la lista interna debe ser vacía.\n",
        "\n",
        "- Un método `get_last_roll()` que devuelve la lista con los valores de la última tirada.\n",
        "\n",
        "- Un método `get_roll_sum()` que devuelve la suma de los valores de la última tirada.\n",
        "\n",
        "    - Si no se ha llamado a `roll()`, debe devolver cero.\n",
        "\n",
        "- Implemente los siguientes métodos:\n",
        "\n",
        "  - Suma de dados `d1 + d2` con `__sum__`: Devuelve un `Dice` con la unión de las listas de los dados. Si un objeto `Dice` tiene $n_1$ dados y otro $n_2$ dados, el objeto resultante debe tener $n_1 + n_2$ dados, uniendo las listas de las tiradas anteriores.\n",
        "\n",
        "  - Producto de dados `d1 * d2`: Devuelve la suma de todos los productos posibles de dos factores entre los resultados de ambos dados.\n",
        "  \n",
        "  - Iteración de dados: Permite iterar los resultados de las tiradas como sigue.\n",
        "    ```python\n",
        "    # Imprime cada valor del dado\n",
        "    for val in d1:\n",
        "        print(val)\n",
        "    ```\n"
      ]
    },
    {
      "cell_type": "code",
      "execution_count": 1,
      "metadata": {
        "colab": {
          "base_uri": "https://localhost:8080/"
        },
        "id": "E-gFnSN9Y3GB",
        "outputId": "049f875f-4e85-4368-9535-747f521d145d"
      },
      "outputs": [
        {
          "output_type": "execute_result",
          "data": {
            "text/plain": [
              "6"
            ]
          },
          "metadata": {},
          "execution_count": 1
        }
      ],
      "source": [
        "# Ayuda, utilizar la siguiente función del módulo random\n",
        "import random\n",
        "random.randint(1,6)"
      ]
    },
    {
      "cell_type": "code",
      "execution_count": 41,
      "metadata": {
        "id": "ehy1n6R0Y3GB"
      },
      "outputs": [],
      "source": [
        "class Dice:\n",
        "\n",
        "    def __init__(self, n):\n",
        "      #numero de dados a tirar\n",
        "      self.n = n\n",
        "      #self.tirada = []\n",
        "\n",
        "    def roll(self):\n",
        "\n",
        "       self.tirada= [] #Creo una lista\n",
        "       for _ in range(self.n): #realizo un tiro segun la cantidad de dados\n",
        "         self.tirada.append(random.randint(1,6)) #lo adiciono (append) en mi list\n",
        "\n",
        "    def get_last_roll(self):\n",
        "        return self.tirada #devuelvo el valor si la llamo\n",
        "\n",
        "    def get_roll_sum(self):\n",
        "        return sum(self.tirada) if self.tirada else 0  #Sumo las tiradas\n",
        "    def __add__(self, other):\n",
        "        return Dice(self.n + other.n)"
      ]
    },
    {
      "cell_type": "code",
      "source": [
        "from re import A\n",
        "a1= Dice(2)\n",
        "a1.roll()\n",
        "a2= Dice(2)\n",
        "a2.roll()\n",
        "A1=a2.get_roll_sum()\n",
        "A2=a1.get_roll_sum()\n",
        "AT=A1+A2\n",
        "print(A1)\n",
        "print(A2)\n",
        "print(AT)\n",
        "\n",
        "#print(a1.get_last_roll())\n",
        "#print(a1.get_roll_sum())\n",
        "#print(a2.get_last_roll())\n",
        "#print(a2.get_roll_sum())\n",
        "#A=a1.get_roll_sum+a2.get_roll_sum\n",
        "#print(A.get_last_roll())\n",
        "#print(A.get_roll_sum())\n"
      ],
      "metadata": {
        "id": "3j6uGP5Oeipi",
        "outputId": "6c195aad-0e3f-4e78-b477-20bad3f81300",
        "colab": {
          "base_uri": "https://localhost:8080/"
        }
      },
      "execution_count": 80,
      "outputs": [
        {
          "output_type": "stream",
          "name": "stdout",
          "text": [
            "8\n",
            "9\n",
            "17\n"
          ]
        }
      ]
    },
    {
      "cell_type": "markdown",
      "metadata": {
        "id": "IDheLZRJY3GB"
      },
      "source": [
        "## Clase `ScaledDice`\n",
        "\n",
        "1. Crea una clase que herede de `Dice` llamada `ScaledDice`.\n",
        "2. Modifica el constructor para que reciba un argumento de escala, `scale: int = 2`.\n",
        "3. Modifica el comportamiento del método `roll` para que al tirar los dados, cada valor sea multiplicado por la escala `scale`.\n",
        "4. Comprueba que el resto de métodos no modificados funcionen correctamente."
      ]
    },
    {
      "cell_type": "code",
      "execution_count": null,
      "metadata": {
        "id": "vuyQDKFyY3GC"
      },
      "outputs": [],
      "source": [
        "class ScaledDice(Dice):\n",
        "    pass"
      ]
    }
  ],
  "metadata": {
    "kernelspec": {
      "display_name": "Python 3",
      "language": "python",
      "name": "python3"
    },
    "language_info": {
      "codemirror_mode": {
        "name": "ipython",
        "version": 3
      },
      "file_extension": ".py",
      "mimetype": "text/x-python",
      "name": "python",
      "nbconvert_exporter": "python",
      "pygments_lexer": "ipython3",
      "version": "3.7.4"
    },
    "colab": {
      "provenance": []
    }
  },
  "nbformat": 4,
  "nbformat_minor": 0
}